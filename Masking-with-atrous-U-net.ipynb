{
 "cells": [
  {
   "cell_type": "code",
   "execution_count": 1,
   "metadata": {},
   "outputs": [
    {
     "name": "stderr",
     "output_type": "stream",
     "text": [
      "Using TensorFlow backend.\n"
     ]
    }
   ],
   "source": [
    "%matplotlib inline\n",
    "import numpy as np\n",
    "import pandas as pd\n",
    "import matplotlib.pyplot as plt\n",
    "\n",
    "from keras.models import Sequential,Model\n",
    "from keras.layers import Dense, Conv2D, Input, MaxPool2D, UpSampling2D, Concatenate, Conv2DTranspose\n",
    "from keras.optimizers import RMSprop,Adam\n",
    "from keras import regularizers\n",
    "\n",
    "import tensorflow as tf \n",
    "\n",
    "from scipy.misc import imresize\n",
    "from tqdm import tqdm\n",
    "from sklearn.model_selection import train_test_split\n",
    "import os\n",
    "from PIL import Image\n",
    "\n",
    "from keras.preprocessing.image import array_to_img , img_to_array , load_img ,ImageDataGenerator \n",
    "\n",
    "from subprocess import check_output\n",
    "#print (check_output([\"ls\", \"../myproject\"]).decode(\"utf8\"))"
   ]
  },
  {
   "cell_type": "code",
   "execution_count": 2,
   "metadata": {
    "collapsed": true
   },
   "outputs": [],
   "source": [
    "data_dir = \"train/\"\n",
    "mask_dir = \"train_masks/\"\n",
    "all_images = os.listdir(data_dir)"
   ]
  },
  {
   "cell_type": "code",
   "execution_count": 3,
   "metadata": {},
   "outputs": [
    {
     "name": "stdout",
     "output_type": "stream",
     "text": [
      "4070\n"
     ]
    }
   ],
   "source": [
    "train_images, validation_images = train_test_split(all_images, train_size=0.8, test_size=0.2)\n",
    "print len(train_images)\n",
    "#content_image=Image.open('train/fc5f1a3a66cf_06.jpg')\n",
    "#content_image.size"
   ]
  },
  {
   "cell_type": "code",
   "execution_count": 4,
   "metadata": {
    "collapsed": true
   },
   "outputs": [],
   "source": [
    "def grey2rgb_2(img):\n",
    "    new_img=np.array(list(img)*3)\n",
    "    new_img=new_img.reshape(img.shape[0],img.shape[1],3)\n",
    "    return new_img"
   ]
  },
  {
   "cell_type": "code",
   "execution_count": 5,
   "metadata": {
    "collapsed": true
   },
   "outputs": [],
   "source": [
    "size=64"
   ]
  },
  {
   "cell_type": "code",
   "execution_count": 6,
   "metadata": {},
   "outputs": [
    {
     "data": {
      "text/plain": [
       "<matplotlib.image.AxesImage at 0x7fa675e09f10>"
      ]
     },
     "execution_count": 6,
     "metadata": {},
     "output_type": "execute_result"
    },
    {
     "data": {
      "image/png": "[encoded data removed]",
      "text/plain": [
       "<matplotlib.figure.Figure at 0x7fa600fb7f10>"
      ]
     },
     "metadata": {},
     "output_type": "display_data"
    }
   ],
   "source": [
    "def grey2rgb(img):\n",
    "    new_img = []\n",
    "    for i in range(img.shape[0]):\n",
    "        for j in range(img.shape[1]):\n",
    "            new_img.append(list(img[i][j])*3)\n",
    "    new_img = np.array(new_img).reshape(img.shape[0], img.shape[1], 3)\n",
    "    return new_img\n",
    "\n",
    "\n",
    "# generator that we will use to read the data from the directory\n",
    "def data_gen_small(data_dir, mask_dir, images, batch_size, dims):\n",
    "        \"\"\"\n",
    "        data_dir: where the actual images are kept\n",
    "        mask_dir: where the actual masks are kept\n",
    "        images: the filenames of the images we want to generate batches from\n",
    "        batch_size: self explanatory\n",
    "        dims: the dimensions in which we want to rescale our images\n",
    "        \"\"\"\n",
    "        while True:\n",
    "            batch = np.random.choice(np.arange(len(images)), batch_size)\n",
    "            imgs = []\n",
    "            labels = []\n",
    "            for i in batch:\n",
    "                # images\n",
    "                original_img = load_img(data_dir + images[i])\n",
    "                resized_img = imresize(original_img, dims+[3])\n",
    "                array_img = img_to_array(resized_img)/255\n",
    "                imgs.append(array_img)\n",
    "                \n",
    "                # masks\n",
    "                original_mask = load_img(mask_dir + images[i].split(\".\")[0] + '_mask.gif')\n",
    "                resized_mask = imresize(original_mask, dims+[3])\n",
    "                array_mask = img_to_array(resized_mask)/255\n",
    "                labels.append(array_mask[:, :, 0])\n",
    "            imgs = np.array(imgs)\n",
    "            labels = np.array(labels)\n",
    "            #print labels\n",
    "            yield imgs, labels.reshape(-1, dims[0], dims[1], 1)\n",
    "\n",
    "# example use\n",
    "train_gen = data_gen_small(data_dir, mask_dir, train_images, 5, [size, size])\n",
    "img, msk = next(train_gen)\n",
    "\n",
    "plt.imshow(img[0])\n",
    "plt.imshow(grey2rgb(msk[0]), alpha=0.5)"
   ]
  },
  {
   "cell_type": "code",
   "execution_count": 7,
   "metadata": {
    "collapsed": true
   },
   "outputs": [],
   "source": [
    "def down(input_layers,filters,pool=True):\n",
    "    conv1=Conv2D(filters,(2,2),padding=\"same\",activation='elu')(input_layers)\n",
    "    residual = Conv2D(filters, (3, 3), padding='same', activation='elu')(conv1)\n",
    "    if pool:\n",
    "        max_pool = MaxPool2D()(residual)\n",
    "        return max_pool, residual\n",
    "    else:\n",
    "        return residual\n",
    "\n",
    "def up(input_layer, residual, filters):\n",
    "    filters=int(filters)\n",
    "    upsample = UpSampling2D()(input_layer)\n",
    "    upconv = Conv2D(filters, kernel_size=(2, 2), padding=\"same\")(upsample)\n",
    "    concat = Concatenate(axis=3)([residual, upconv])\n",
    "    conv1 = Conv2D(filters, (3, 3), padding='same', activation='elu')(concat)\n",
    "    conv2 = Conv2D(filters, (3, 3), padding='same', activation='elu')(conv1)\n",
    "    return conv2"
   ]
  },
  {
   "cell_type": "code",
   "execution_count": 8,
   "metadata": {},
   "outputs": [
    {
     "name": "stdout",
     "output_type": "stream",
     "text": [
      "____________________________________________________________________________________________________\n",
      "Layer (type)                     Output Shape          Param #     Connected to                     \n",
      "====================================================================================================\n",
      "input_1 (InputLayer)             (None, 64, 64, 3)     0                                            \n",
      "____________________________________________________________________________________________________\n",
      "conv2d_1 (Conv2D)                (None, 64, 64, 64)    832         input_1[0][0]                    \n",
      "____________________________________________________________________________________________________\n",
      "conv2d_2 (Conv2D)                (None, 64, 64, 64)    36928       conv2d_1[0][0]                   \n",
      "____________________________________________________________________________________________________\n",
      "max_pooling2d_1 (MaxPooling2D)   (None, 32, 32, 64)    0           conv2d_2[0][0]                   \n",
      "____________________________________________________________________________________________________\n",
      "conv2d_3 (Conv2D)                (None, 32, 32, 128)   32896       max_pooling2d_1[0][0]            \n",
      "____________________________________________________________________________________________________\n",
      "conv2d_4 (Conv2D)                (None, 32, 32, 128)   147584      conv2d_3[0][0]                   \n",
      "____________________________________________________________________________________________________\n",
      "max_pooling2d_2 (MaxPooling2D)   (None, 16, 16, 128)   0           conv2d_4[0][0]                   \n",
      "____________________________________________________________________________________________________\n",
      "conv2d_5 (Conv2D)                (None, 16, 16, 256)   131328      max_pooling2d_2[0][0]            \n",
      "____________________________________________________________________________________________________\n",
      "conv2d_6 (Conv2D)                (None, 16, 16, 256)   590080      conv2d_5[0][0]                   \n",
      "____________________________________________________________________________________________________\n",
      "max_pooling2d_3 (MaxPooling2D)   (None, 8, 8, 256)     0           conv2d_6[0][0]                   \n",
      "____________________________________________________________________________________________________\n",
      "conv2d_7 (Conv2D)                (None, 8, 8, 512)     524800      max_pooling2d_3[0][0]            \n",
      "____________________________________________________________________________________________________\n",
      "conv2d_8 (Conv2D)                (None, 8, 8, 512)     2359808     conv2d_7[0][0]                   \n",
      "____________________________________________________________________________________________________\n",
      "max_pooling2d_4 (MaxPooling2D)   (None, 4, 4, 512)     0           conv2d_8[0][0]                   \n",
      "____________________________________________________________________________________________________\n",
      "conv2d_9 (Conv2D)                (None, 4, 4, 1024)    2098176     max_pooling2d_4[0][0]            \n",
      "____________________________________________________________________________________________________\n",
      "conv2d_10 (Conv2D)               (None, 4, 4, 1024)    9438208     conv2d_9[0][0]                   \n",
      "____________________________________________________________________________________________________\n",
      "conv2d_11 (Conv2D)               (None, 4, 4, 512)     4719104     conv2d_10[0][0]                  \n",
      "____________________________________________________________________________________________________\n",
      "conv2d_12 (Conv2D)               (None, 4, 4, 512)     2359808     conv2d_11[0][0]                  \n",
      "____________________________________________________________________________________________________\n",
      "conv2d_13 (Conv2D)               (None, 4, 4, 512)     2359808     conv2d_12[0][0]                  \n",
      "____________________________________________________________________________________________________\n",
      "up_sampling2d_1 (UpSampling2D)   (None, 8, 8, 512)     0           conv2d_13[0][0]                  \n",
      "____________________________________________________________________________________________________\n",
      "conv2d_14 (Conv2D)               (None, 8, 8, 512)     1049088     up_sampling2d_1[0][0]            \n",
      "____________________________________________________________________________________________________\n",
      "concatenate_1 (Concatenate)      (None, 8, 8, 1024)    0           conv2d_8[0][0]                   \n",
      "                                                                   conv2d_14[0][0]                  \n",
      "____________________________________________________________________________________________________\n",
      "conv2d_15 (Conv2D)               (None, 8, 8, 512)     4719104     concatenate_1[0][0]              \n",
      "____________________________________________________________________________________________________\n",
      "conv2d_16 (Conv2D)               (None, 8, 8, 512)     2359808     conv2d_15[0][0]                  \n",
      "____________________________________________________________________________________________________\n",
      "up_sampling2d_2 (UpSampling2D)   (None, 16, 16, 512)   0           conv2d_16[0][0]                  \n",
      "____________________________________________________________________________________________________\n",
      "conv2d_17 (Conv2D)               (None, 16, 16, 256)   524544      up_sampling2d_2[0][0]            \n",
      "____________________________________________________________________________________________________\n",
      "concatenate_2 (Concatenate)      (None, 16, 16, 512)   0           conv2d_6[0][0]                   \n",
      "                                                                   conv2d_17[0][0]                  \n",
      "____________________________________________________________________________________________________\n",
      "conv2d_18 (Conv2D)               (None, 16, 16, 256)   1179904     concatenate_2[0][0]              \n",
      "____________________________________________________________________________________________________\n",
      "conv2d_19 (Conv2D)               (None, 16, 16, 256)   590080      conv2d_18[0][0]                  \n",
      "____________________________________________________________________________________________________\n",
      "up_sampling2d_3 (UpSampling2D)   (None, 32, 32, 256)   0           conv2d_19[0][0]                  \n",
      "____________________________________________________________________________________________________\n",
      "conv2d_20 (Conv2D)               (None, 32, 32, 128)   131200      up_sampling2d_3[0][0]            \n",
      "____________________________________________________________________________________________________\n",
      "concatenate_3 (Concatenate)      (None, 32, 32, 256)   0           conv2d_4[0][0]                   \n",
      "                                                                   conv2d_20[0][0]                  \n",
      "____________________________________________________________________________________________________\n",
      "conv2d_21 (Conv2D)               (None, 32, 32, 128)   295040      concatenate_3[0][0]              \n",
      "____________________________________________________________________________________________________\n",
      "conv2d_22 (Conv2D)               (None, 32, 32, 128)   147584      conv2d_21[0][0]                  \n",
      "____________________________________________________________________________________________________\n",
      "up_sampling2d_4 (UpSampling2D)   (None, 64, 64, 128)   0           conv2d_22[0][0]                  \n",
      "____________________________________________________________________________________________________\n",
      "conv2d_23 (Conv2D)               (None, 64, 64, 64)    32832       up_sampling2d_4[0][0]            \n",
      "____________________________________________________________________________________________________\n",
      "concatenate_4 (Concatenate)      (None, 64, 64, 128)   0           conv2d_2[0][0]                   \n",
      "                                                                   conv2d_23[0][0]                  \n",
      "____________________________________________________________________________________________________\n",
      "conv2d_24 (Conv2D)               (None, 64, 64, 64)    73792       concatenate_4[0][0]              \n",
      "____________________________________________________________________________________________________\n",
      "conv2d_25 (Conv2D)               (None, 64, 64, 64)    36928       conv2d_24[0][0]                  \n",
      "____________________________________________________________________________________________________\n",
      "conv2d_26 (Conv2D)               (None, 64, 64, 1)     65          conv2d_25[0][0]                  \n",
      "====================================================================================================\n",
      "Total params: 35,939,329\n",
      "Trainable params: 35,939,329\n",
      "Non-trainable params: 0\n",
      "____________________________________________________________________________________________________\n"
     ]
    }
   ],
   "source": [
    "# Make a custom U-nets implementation.\n",
    "filters = 64\n",
    "input_layer = Input(shape = [size,size, 3])\n",
    "layers = [input_layer]\n",
    "residuals = []\n",
    "\n",
    "# Down 1, 128\n",
    "d1, res1 = down(input_layer, filters)\n",
    "residuals.append(res1)\n",
    "\n",
    "filters *= 2\n",
    "\n",
    "# Down 2, 64\n",
    "d2, res2 = down(d1, filters)\n",
    "residuals.append(res2)\n",
    "\n",
    "filters *= 2\n",
    "\n",
    "# Down 3, 32\n",
    "d3, res3 = down(d2, filters)\n",
    "residuals.append(res3)\n",
    "\n",
    "filters *= 2\n",
    "\n",
    "# Down 4, 16\n",
    "d4, res4 = down(d3, filters)\n",
    "residuals.append(res4)\n",
    "\n",
    "filters *= 2\n",
    "\n",
    "# Down 5, 8\n",
    "d5 = down(d4, filters, pool=False)\n",
    "\n",
    "atr1=Conv2D(512,(3,3),dilation_rate=(2, 2),activation='relu',padding='same')(d5)\n",
    "atr2=Conv2D(512,(3,3),dilation_rate=(2, 2),activation='relu',padding='same')(atr1)\n",
    "atr3=Conv2D(512,(3,3),dilation_rate=(2, 2),activation='relu',padding='same')(atr2)\n",
    "\n",
    "# Up 1, 16\n",
    "up1 = up(atr3, residual=residuals[-1], filters=filters/2)\n",
    "\n",
    "filters /= 2\n",
    "\n",
    "# Up 2,  32\n",
    "up2 = up(up1, residual=residuals[-2], filters=filters/2)\n",
    "\n",
    "filters /= 2\n",
    "\n",
    "# Up 3, 64\n",
    "up3 = up(up2, residual=residuals[-3], filters=filters/2)\n",
    "\n",
    "filters /= 2\n",
    "\n",
    "# Up 4, 128\n",
    "up4 = up(up3, residual=residuals[-4], filters=filters/2)\n",
    "\n",
    "out = Conv2D(filters=1, kernel_size=(1, 1), activation=\"sigmoid\")(up4)\n",
    "\n",
    "model = Model(input_layer, out)\n",
    "\n",
    "model.summary()"
   ]
  },
  {
   "cell_type": "code",
   "execution_count": null,
   "metadata": {
    "collapsed": true
   },
   "outputs": [],
   "source": []
  },
  {
   "cell_type": "code",
   "execution_count": null,
   "metadata": {
    "collapsed": true
   },
   "outputs": [],
   "source": []
  },
  {
   "cell_type": "code",
   "execution_count": 9,
   "metadata": {
    "collapsed": true
   },
   "outputs": [],
   "source": [
    "from keras.losses import binary_crossentropy\n",
    "import keras.backend as K\n",
    "\n",
    "\n",
    "def dice_coeff(y_true, y_pred):\n",
    "    smooth = 1.\n",
    "    y_true_f = K.flatten(y_true)\n",
    "    y_pred_f = K.flatten(y_pred)\n",
    "    intersection = K.sum(y_true_f * y_pred_f)\n",
    "    return (2. * intersection + smooth) / (K.sum(y_true_f) + K.sum(y_pred_f) + smooth)\n",
    "\n",
    "\n",
    "def dice_loss(y_true, y_pred):\n",
    "    return 1 - dice_coeff(y_true, y_pred)\n",
    "\n",
    "\n",
    "def bce_dice_loss(y_true, y_pred):\n",
    "    return binary_crossentropy(y_true, y_pred) + dice_loss(y_true, y_pred)\n"
   ]
  },
  {
   "cell_type": "code",
   "execution_count": 10,
   "metadata": {},
   "outputs": [
    {
     "name": "stdout",
     "output_type": "stream",
     "text": [
      "Epoch 1/30\n",
      "100/100 [==============================] - 48s - loss: 0.3485 - dice_coeff: 0.8172    \n",
      "Epoch 2/30\n",
      "100/100 [==============================] - 46s - loss: 0.2209 - dice_coeff: 0.8842    \n",
      "Epoch 3/30\n",
      "100/100 [==============================] - 46s - loss: 0.1763 - dice_coeff: 0.9070    \n",
      "Epoch 4/30\n",
      "100/100 [==============================] - 45s - loss: 0.1470 - dice_coeff: 0.9220    \n",
      "Epoch 5/30\n",
      "100/100 [==============================] - 44s - loss: 0.1331 - dice_coeff: 0.9293    \n",
      "Epoch 6/30\n",
      "100/100 [==============================] - 44s - loss: 0.1193 - dice_coeff: 0.9362    \n",
      "Epoch 7/30\n",
      "100/100 [==============================] - 44s - loss: 0.1101 - dice_coeff: 0.9411    \n",
      "Epoch 8/30\n",
      "100/100 [==============================] - 42s - loss: 0.1043 - dice_coeff: 0.9448    \n",
      "Epoch 9/30\n",
      "100/100 [==============================] - 43s - loss: 0.1004 - dice_coeff: 0.9468    \n",
      "Epoch 10/30\n",
      "100/100 [==============================] - 42s - loss: 0.0964 - dice_coeff: 0.9487    \n",
      "Epoch 11/30\n",
      "100/100 [==============================] - 43s - loss: 0.0928 - dice_coeff: 0.9506    \n",
      "Epoch 12/30\n",
      "100/100 [==============================] - 43s - loss: 0.0914 - dice_coeff: 0.9520    \n",
      "Epoch 13/30\n",
      "100/100 [==============================] - 43s - loss: 0.0876 - dice_coeff: 0.9532    \n",
      "Epoch 14/30\n",
      "100/100 [==============================] - 43s - loss: 0.0882 - dice_coeff: 0.9532    \n",
      "Epoch 15/30\n",
      "100/100 [==============================] - 43s - loss: 0.0867 - dice_coeff: 0.9541    \n",
      "Epoch 16/30\n",
      "100/100 [==============================] - 44s - loss: 0.0865 - dice_coeff: 0.9542    \n",
      "Epoch 17/30\n",
      "100/100 [==============================] - 45s - loss: 0.0810 - dice_coeff: 0.9568    \n",
      "Epoch 18/30\n",
      "100/100 [==============================] - 45s - loss: 0.0821 - dice_coeff: 0.9566    \n",
      "Epoch 19/30\n",
      "100/100 [==============================] - 44s - loss: 0.0807 - dice_coeff: 0.9570    \n",
      "Epoch 20/30\n",
      "100/100 [==============================] - 44s - loss: 0.0805 - dice_coeff: 0.9573    \n",
      "Epoch 21/30\n",
      "100/100 [==============================] - 44s - loss: 0.0784 - dice_coeff: 0.9584    \n",
      "Epoch 22/30\n",
      "100/100 [==============================] - 44s - loss: 0.0770 - dice_coeff: 0.9593    \n",
      "Epoch 23/30\n",
      "100/100 [==============================] - 44s - loss: 0.0774 - dice_coeff: 0.9587    \n",
      "Epoch 24/30\n",
      "100/100 [==============================] - 44s - loss: 0.0772 - dice_coeff: 0.9584    \n",
      "Epoch 25/30\n",
      "100/100 [==============================] - 43s - loss: 0.0769 - dice_coeff: 0.9592    \n",
      "Epoch 26/30\n",
      "100/100 [==============================] - 41s - loss: 0.0746 - dice_coeff: 0.9600    \n",
      "Epoch 27/30\n",
      "100/100 [==============================] - 41s - loss: 0.0745 - dice_coeff: 0.9604    \n",
      "Epoch 28/30\n",
      "100/100 [==============================] - 42s - loss: 0.0717 - dice_coeff: 0.9617    \n",
      "Epoch 29/30\n",
      "100/100 [==============================] - 43s - loss: 0.0738 - dice_coeff: 0.9609    \n",
      "Epoch 30/30\n",
      "100/100 [==============================] - 42s - loss: 0.0741 - dice_coeff: 0.9608    \n"
     ]
    },
    {
     "data": {
      "text/plain": [
       "<keras.callbacks.History at 0x7fa5fcaa8bd0>"
      ]
     },
     "execution_count": 10,
     "metadata": {},
     "output_type": "execute_result"
    }
   ],
   "source": [
    "model.compile(optimizer=Adam(1e-4), loss= bce_dice_loss, metrics=[dice_coeff])\n",
    "model.fit_generator(train_gen, steps_per_epoch=100,epochs=30)"
   ]
  },
  {
   "cell_type": "code",
   "execution_count": 11,
   "metadata": {
    "collapsed": true
   },
   "outputs": [],
   "source": [
    "#accuracy = model.evaluate(test_x, test_y, verbose=1)"
   ]
  },
  {
   "cell_type": "code",
   "execution_count": 14,
   "metadata": {
    "collapsed": true
   },
   "outputs": [],
   "source": [
    "validation_gen = data_gen_small(data_dir, mask_dir, validation_images, 5, [size, size])\n",
    "img, msk = next(train_gen)"
   ]
  },
  {
   "cell_type": "code",
   "execution_count": 15,
   "metadata": {},
   "outputs": [
    {
     "data": {
      "text/plain": [
       "[0.074005604237318043, 0.96003065109252927]"
      ]
     },
     "execution_count": 15,
     "metadata": {},
     "output_type": "execute_result"
    }
   ],
   "source": [
    "model.evaluate_generator(validation_gen,100)"
   ]
  }
 ],
 "metadata": {
  "kernelspec": {
   "display_name": "Python 2",
   "language": "python",
   "name": "python2"
  },
  "language_info": {
   "codemirror_mode": {
    "name": "ipython",
    "version": 2
   },
   "file_extension": ".py",
   "mimetype": "text/x-python",
   "name": "python",
   "nbconvert_exporter": "python",
   "pygments_lexer": "ipython2",
   "version": "2.7.12"
  }
 },
 "nbformat": 4,
 "nbformat_minor": 2
}
